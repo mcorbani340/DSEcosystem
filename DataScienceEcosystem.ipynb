{
 "cells": [
  {
   "cell_type": "markdown",
   "id": "664e933c-aa22-4813-9bbf-e0e7386417d4",
   "metadata": {
    "tags": []
   },
   "source": [
    "# Data Science Tools and Ecosystem"
   ]
  },
  {
   "cell_type": "markdown",
   "id": "7d13e923-0f44-481f-8ea5-dd04bb4e96ac",
   "metadata": {},
   "source": [
    "In this notebook, Data Science Tools and Ecosystem are summarized."
   ]
  },
  {
   "cell_type": "markdown",
   "id": "c68f539e-b5a0-4d00-bfc0-457ab3dc2ed1",
   "metadata": {},
   "source": [
    "**Objectives:**\n",
    "* List popular languages for Data Science\n",
    "* Commonly used libraries \n",
    "* Data Science tools\n",
    "* Arithmetic expression in Python\n",
    "* Convert minutes to hours"
   ]
  },
  {
   "cell_type": "markdown",
   "id": "6298ba8f-75d0-4fe8-80ce-ce1cc9487b77",
   "metadata": {},
   "source": [
    "Some of the popular languages that Data Scientists use are:\n",
    "1. Python\n",
    "2. R\n",
    "3. SQL"
   ]
  },
  {
   "cell_type": "markdown",
   "id": "b39cdeb2-ac34-40cb-9832-dd750bcc41b5",
   "metadata": {},
   "source": [
    "Some of the commonly used libraries used by Data Scientists include:\n",
    "1. pandas\n",
    "2. scikit-learn\n",
    "3. matplotlib\n",
    "4. Tensorclow\n",
    "5. seaborn"
   ]
  },
  {
   "cell_type": "markdown",
   "id": "b633550d-d7a8-4158-9280-6b05795c561e",
   "metadata": {},
   "source": [
    "| Data Science Tools |\n",
    "| -------------------|\n",
    "| Jupiter Notebook   |\n",
    "| RStudio.           |\n",
    "| Apache Zeppellin.  |"
   ]
  },
  {
   "cell_type": "markdown",
   "id": "d701b2a5-d8e5-42c6-98b6-15ffdb346d59",
   "metadata": {},
   "source": [
    "### Below are a few examples of evaluating arithmetic expressions in Python."
   ]
  },
  {
   "cell_type": "code",
   "execution_count": 5,
   "id": "e1489622-a5e6-448e-b9da-9ae7434c37ad",
   "metadata": {
    "tags": []
   },
   "outputs": [
    {
     "name": "stdout",
     "output_type": "stream",
     "text": [
      "17\n"
     ]
    }
   ],
   "source": [
    "#This is a simple arithmetic expression to multiply then add integers.\n",
    "a = (3*4) + 5\n",
    "print(a)"
   ]
  },
  {
   "cell_type": "code",
   "execution_count": 3,
   "id": "f6b7db2e-2358-4738-bb47-859c31e4878b",
   "metadata": {
    "tags": []
   },
   "outputs": [
    {
     "name": "stdout",
     "output_type": "stream",
     "text": [
      "3.3333333333333335\n"
     ]
    }
   ],
   "source": [
    "#This will convert 200 minutes to hours by dividing by 60.\n",
    "minutes = 200\n",
    "hours = minutes / 60\n",
    "print(hours)"
   ]
  },
  {
   "cell_type": "markdown",
   "id": "e375e8bb-03a0-4e22-9a03-235107349d8a",
   "metadata": {
    "tags": []
   },
   "source": [
    "## Author\n",
    "\n",
    "Mauro Corbani"
   ]
  },
  {
   "cell_type": "code",
   "execution_count": null,
   "id": "322f08e7-9ace-4a2a-8971-38f42abde5b2",
   "metadata": {},
   "outputs": [],
   "source": []
  }
 ],
 "metadata": {
  "kernelspec": {
   "display_name": "Python",
   "language": "python",
   "name": "conda-env-python-py"
  },
  "language_info": {
   "codemirror_mode": {
    "name": "ipython",
    "version": 3
   },
   "file_extension": ".py",
   "mimetype": "text/x-python",
   "name": "python",
   "nbconvert_exporter": "python",
   "pygments_lexer": "ipython3",
   "version": "3.7.12"
  }
 },
 "nbformat": 4,
 "nbformat_minor": 5
}
