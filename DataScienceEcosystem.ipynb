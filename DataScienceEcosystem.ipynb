{
 "cells": [
  {
   "cell_type": "code",
   "execution_count": null,
   "id": "0f847539-5621-411b-a661-7c2a0f0bc9d0",
   "metadata": {},
   "outputs": [],
   "source": [
    "#Data Science Tools and Ecosystem"
   ]
  },
  {
   "cell_type": "code",
   "execution_count": null,
   "id": "0c1b7f12-c11e-471d-a9a6-65d1a3941561",
   "metadata": {},
   "outputs": [],
   "source": [
    "In this notebook, Data Science Tools and Ecosystem are summarized."
   ]
  },
  {
   "cell_type": "markdown",
   "id": "c68f539e-b5a0-4d00-bfc0-457ab3dc2ed1",
   "metadata": {},
   "source": [
    "**Objectives:**\n",
    "* List popular languages for Data Science\n",
    "* Commonly used libraries \n",
    "* Data Science tools\n",
    "* Arithmetic expression in Python\n",
    "* Convert minutes to hours"
   ]
  },
  {
   "cell_type": "code",
   "execution_count": null,
   "id": "43ffa9f7-3691-40b7-aa50-f5d835661583",
   "metadata": {},
   "outputs": [],
   "source": [
    "Some of the popular languages that Data Scientists use are:\n",
    "1. Python\n",
    "2. R\n",
    "3. SQL"
   ]
  },
  {
   "cell_type": "code",
   "execution_count": null,
   "id": "0b22ce7e-3810-42e0-833e-f3fbd03656aa",
   "metadata": {},
   "outputs": [],
   "source": [
    "Some of the commonly used libraries used by Data Scientists include:\n",
    "1. pandas\n",
    "2. scikit-learn\n",
    "3. matplotlib\n",
    "4. Tensorclow\n",
    "5. seaborn"
   ]
  },
  {
   "cell_type": "code",
   "execution_count": null,
   "id": "b00f5ba2-79a3-4abf-93e5-7ca8c0c4fa8c",
   "metadata": {},
   "outputs": [],
   "source": [
    "| Data Science Tools |\n",
    "| -------------------|\n",
    "| Jupiter Notebook   |\n",
    "| RStudio.           |\n",
    "| Apache Zeppellin.  |"
   ]
  },
  {
   "cell_type": "code",
   "execution_count": null,
   "id": "162940b7-defb-47d9-94a3-8591ade89fec",
   "metadata": {},
   "outputs": [],
   "source": [
    "### Below are a few examples of evaluating arithmetic expressions in Python."
   ]
  },
  {
   "cell_type": "code",
   "execution_count": null,
   "id": "1ee7da86-85b6-423a-bfb2-c10be48702ac",
   "metadata": {
    "tags": []
   },
   "outputs": [],
   "source": [
    "#This is a simple arithmetic expression to multiply then add integers.\n",
    "a = (3*4) + 5\n",
    "print(a)"
   ]
  },
  {
   "cell_type": "code",
   "execution_count": 2,
   "id": "59127281-0db4-4ef2-826a-4c847fad748b",
   "metadata": {
    "tags": []
   },
   "outputs": [
    {
     "name": "stdout",
     "output_type": "stream",
     "text": [
      "3.3333333333333335\n"
     ]
    }
   ],
   "source": [
    "#This will convert 200 minutes to hours by dividing by 60.\n",
    "minutes = 200\n",
    "hours = minutes / 60\n",
    "print(hours)"
   ]
  },
  {
   "cell_type": "code",
   "execution_count": null,
   "id": "7b24753e-9e03-4d8c-993a-19ca9d589cea",
   "metadata": {
    "tags": []
   },
   "outputs": [],
   "source": [
    "## Author\n",
    "\n",
    "Mauro Corbani"
   ]
  },
  {
   "cell_type": "code",
   "execution_count": null,
   "id": "322f08e7-9ace-4a2a-8971-38f42abde5b2",
   "metadata": {},
   "outputs": [],
   "source": []
  }
 ],
 "metadata": {
  "kernelspec": {
   "display_name": "Python",
   "language": "python",
   "name": "conda-env-python-py"
  },
  "language_info": {
   "codemirror_mode": {
    "name": "ipython",
    "version": 3
   },
   "file_extension": ".py",
   "mimetype": "text/x-python",
   "name": "python",
   "nbconvert_exporter": "python",
   "pygments_lexer": "ipython3",
   "version": "3.7.12"
  }
 },
 "nbformat": 4,
 "nbformat_minor": 5
}
